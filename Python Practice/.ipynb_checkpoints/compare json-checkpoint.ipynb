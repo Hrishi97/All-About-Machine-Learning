{
 "cells": [
  {
   "cell_type": "code",
   "execution_count": 155,
   "id": "e9844d09",
   "metadata": {},
   "outputs": [],
   "source": [
    "data1 = '''{\n",
    "    \"calories\": {\n",
    "        \"a\": 420,\n",
    "        \"b\": 380,\n",
    "        \"c\": 390\n",
    "    },\n",
    "    \"duration\": {\n",
    "        \"a\": 50,\n",
    "        \"b\": 40,\n",
    "        \"c\": 45,\n",
    "        \"d\": [\n",
    "            {\n",
    "                \"1\": \"61\",\n",
    "                \"2\": \"62\",\n",
    "                \"3\": \"63\"\n",
    "            },\n",
    "            {\n",
    "                \"10\": \"71\",\n",
    "                \"20\": \"72\",\n",
    "                \"30\": \"73\"\n",
    "            }\n",
    "        ]\n",
    "    }\n",
    "}'''\n",
    "\n",
    "data2 = '''{\n",
    "    \"duration\": {\n",
    "        \"a\": 50,\n",
    "        \"b\": 40,\n",
    "        \"c\": 45,\n",
    "        \"d\": [\n",
    "            {\n",
    "                \"10\": \"71\",\n",
    "                \"20\": \"72\",\n",
    "                \"30\": \"73\"\n",
    "            },\n",
    "            {\n",
    "                \"1\": \"61\",\n",
    "                \"2\": \"62\",\n",
    "                \"3\": \"63\"\n",
    "            }\n",
    "        ]\n",
    "    },\n",
    "    \"calories\": {\n",
    "        \"a\": 420,\n",
    "        \"b\": 380,\n",
    "        \"c\": 390\n",
    "    }\n",
    "}'''\n"
   ]
  },
  {
   "cell_type": "code",
   "execution_count": 175,
   "id": "cd7acf3b",
   "metadata": {},
   "outputs": [
    {
     "name": "stdout",
     "output_type": "stream",
     "text": [
      "{'a': 420, 'b': 380, 'c': 390}\n",
      "{'a': 50, 'b': 40, 'c': 45, 'd': [{'1': '61', '2': '62', '3': '63'}, {'10': '71', '20': '72', '30': '73'}]}\n"
     ]
    }
   ],
   "source": [
    "import json\n",
    "x = json.loads(data1)\n",
    "y = json.loads(data2)\n",
    "\n",
    "\n",
    "for i in x:\n",
    "    print(x[i])\n",
    "\n",
    "# try:\n",
    "#     assert sorted(x) == sorted(y)\n",
    "#     print(\"Same\")\n",
    "# except:\n",
    "#     print(\"Different\")"
   ]
  },
  {
   "cell_type": "code",
   "execution_count": null,
   "id": "ea5ffbfb",
   "metadata": {},
   "outputs": [],
   "source": []
  }
 ],
 "metadata": {
  "kernelspec": {
   "display_name": "Python 3",
   "language": "python",
   "name": "python3"
  },
  "language_info": {
   "codemirror_mode": {
    "name": "ipython",
    "version": 3
   },
   "file_extension": ".py",
   "mimetype": "text/x-python",
   "name": "python",
   "nbconvert_exporter": "python",
   "pygments_lexer": "ipython3",
   "version": "3.8.5"
  }
 },
 "nbformat": 4,
 "nbformat_minor": 5
}
