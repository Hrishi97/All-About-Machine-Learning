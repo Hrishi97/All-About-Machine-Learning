{
 "cells": [
  {
   "cell_type": "code",
   "execution_count": 1,
   "id": "92922728",
   "metadata": {},
   "outputs": [],
   "source": [
    "import pandas as pd\n",
    "import matplotlib.pyplot as plt\n",
    "import numpy as np"
   ]
  },
  {
   "cell_type": "code",
   "execution_count": 2,
   "id": "af923602",
   "metadata": {},
   "outputs": [],
   "source": [
    "dataset = pd.read_csv('weatherHistory.csv')"
   ]
  },
  {
   "cell_type": "code",
   "execution_count": 5,
   "id": "d53191a3",
   "metadata": {},
   "outputs": [],
   "source": [
    "dataset.drop(['Precip Type','Daily Summary','Loud Cover'],axis = 1, inplace=True)"
   ]
  },
  {
   "cell_type": "code",
   "execution_count": 41,
   "id": "f4500978",
   "metadata": {
    "collapsed": true
   },
   "outputs": [
    {
     "name": "stdout",
     "output_type": "stream",
     "text": [
      "False\n",
      "False\n",
      "False\n",
      "False\n",
      "False\n",
      "False\n",
      "False\n",
      "False\n",
      "False\n"
     ]
    }
   ],
   "source": [
    "for i in dataset:\n",
    "    print(dataset[i].isna().any())"
   ]
  },
  {
   "cell_type": "code",
   "execution_count": 107,
   "id": "872e69ab",
   "metadata": {},
   "outputs": [],
   "source": [
    "X1= dataset.iloc[:,0:3]\n",
    "X2= dataset.iloc[:,4:]\n",
    "y = dataset.loc[:,'Apparent Temperature (C)'].values"
   ]
  },
  {
   "cell_type": "code",
   "execution_count": 109,
   "id": "6d9d7bfb",
   "metadata": {},
   "outputs": [],
   "source": [
    "for i in X2:\n",
    "    X1[i] = X2[i]"
   ]
  },
  {
   "cell_type": "code",
   "execution_count": 133,
   "id": "ba306d86",
   "metadata": {},
   "outputs": [],
   "source": [
    "X = X1.values"
   ]
  },
  {
   "cell_type": "code",
   "execution_count": 135,
   "id": "b8bb2f1a",
   "metadata": {},
   "outputs": [],
   "source": [
    "from sklearn.preprocessing import LabelEncoder\n",
    "le = LabelEncoder()\n",
    "X[:,1] = le.fit_transform(X[:,1])"
   ]
  },
  {
   "cell_type": "code",
   "execution_count": 142,
   "id": "413c1c72",
   "metadata": {},
   "outputs": [
    {
     "data": {
      "text/plain": [
       "27"
      ]
     },
     "execution_count": 142,
     "metadata": {},
     "output_type": "execute_result"
    }
   ],
   "source": [
    "len(le.classes_)"
   ]
  },
  {
   "cell_type": "code",
   "execution_count": 144,
   "id": "95d5902c",
   "metadata": {},
   "outputs": [
    {
     "data": {
      "text/plain": [
       "array([['2006-04-01 00:00:00.000 +0200', 19, 9.472222222, ..., 251,\n",
       "        15.8263, 1015.13],\n",
       "       ['2006-04-01 01:00:00.000 +0200', 19, 9.355555556, ..., 259,\n",
       "        15.8263, 1015.63],\n",
       "       ['2006-04-01 02:00:00.000 +0200', 17, 9.377777778, ..., 204,\n",
       "        14.9569, 1015.94],\n",
       "       ...,\n",
       "       ['2016-09-09 21:00:00.000 +0200', 19, 22.03888889, ..., 30, 16.1,\n",
       "        1015.66],\n",
       "       ['2016-09-09 22:00:00.000 +0200', 19, 21.52222222, ..., 20, 16.1,\n",
       "        1015.95],\n",
       "       ['2016-09-09 23:00:00.000 +0200', 19, 20.43888889, ..., 39,\n",
       "        15.5204, 1016.16]], dtype=object)"
      ]
     },
     "execution_count": 144,
     "metadata": {},
     "output_type": "execute_result"
    }
   ],
   "source": [
    "X"
   ]
  }
 ],
 "metadata": {
  "kernelspec": {
   "display_name": "Python 3",
   "language": "python",
   "name": "python3"
  },
  "language_info": {
   "codemirror_mode": {
    "name": "ipython",
    "version": 3
   },
   "file_extension": ".py",
   "mimetype": "text/x-python",
   "name": "python",
   "nbconvert_exporter": "python",
   "pygments_lexer": "ipython3",
   "version": "3.8.8"
  }
 },
 "nbformat": 4,
 "nbformat_minor": 5
}
