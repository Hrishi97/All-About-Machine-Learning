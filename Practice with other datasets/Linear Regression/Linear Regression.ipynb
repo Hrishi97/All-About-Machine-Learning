{
 "cells": [
  {
   "cell_type": "code",
   "execution_count": 18,
   "id": "96aeaec9",
   "metadata": {},
   "outputs": [],
   "source": [
    "import pandas as pd\n",
    "import numpy as np\n",
    "import matplotlib.pyplot as plt\n",
    "from sklearn.impute import SimpleImputer\n",
    "\n",
    "dataset = pd.read_csv('weatherHistory.csv')\n",
    "\n",
    "X = dataset.iloc[:,1:4]\n",
    "X1 = dataset.iloc[:,5:]\n",
    "y = dataset['Apparent Temperature (C)'].values"
   ]
  },
  {
   "cell_type": "code",
   "execution_count": 19,
   "id": "6907841d",
   "metadata": {},
   "outputs": [],
   "source": [
    "for x in X1.columns:\n",
    "    X[x] = X1[x]\n",
    "\n",
    "X.drop(['Loud Cover','Precip Type','Daily Summary'], axis = 1, inplace = True)"
   ]
  },
  {
   "cell_type": "code",
   "execution_count": 28,
   "id": "ece79eba",
   "metadata": {},
   "outputs": [
    {
     "name": "stdout",
     "output_type": "stream",
     "text": [
      "Index(['Summary', 'Temperature (C)', 'Humidity', 'Wind Speed (km/h)',\n",
      "       'Wind Bearing (degrees)', 'Visibility (km)', 'Pressure (millibars)'],\n",
      "      dtype='object')\n"
     ]
    }
   ],
   "source": [
    "print(X.columns)"
   ]
  },
  {
   "cell_type": "code",
   "execution_count": 30,
   "id": "0fe7af8b",
   "metadata": {},
   "outputs": [],
   "source": [
    "imputer = SimpleImputer(missing_values = np.nan, strategy = 'most_frequent')\n",
    "# check for missing data in df and use imputer accordingly\n",
    "if(X.isna().any().any()):\n",
    "    for i in X.loc[:, X.isnull().any()].columns.values:\n",
    "        print(X[i].dtype)\n",
    "X = X.values"
   ]
  },
  {
   "cell_type": "code",
   "execution_count": 31,
   "id": "c3882264",
   "metadata": {},
   "outputs": [
    {
     "name": "stdout",
     "output_type": "stream",
     "text": [
      "['Partly Cloudy' 'Partly Cloudy' 'Mostly Cloudy' ... 'Partly Cloudy'\n",
      " 'Partly Cloudy' 'Partly Cloudy']\n"
     ]
    }
   ],
   "source": [
    "print(X[:,0])"
   ]
  },
  {
   "cell_type": "code",
   "execution_count": 32,
   "id": "8465561e",
   "metadata": {},
   "outputs": [],
   "source": [
    "# Encode Categorical data (Summary)\\\n",
    "from sklearn.preprocessing import LabelEncoder\n",
    "le = LabelEncoder()\n",
    "X[:,0] = le.fit_transform(X[:,0])\n",
    "\n",
    "# X['Summary'].value_counts()\n",
    "# from sklearn.preprocessing import LabelBinarizer\n",
    "# lb = LabelBinarizer()"
   ]
  },
  {
   "cell_type": "code",
   "execution_count": 38,
   "id": "76ddde3a",
   "metadata": {},
   "outputs": [],
   "source": [
    "from sklearn.model_selection import train_test_split\n",
    "X_train,X_test,y_train,y_test = train_test_split(X, y, test_size = 0.2, random_state = 1)"
   ]
  },
  {
   "cell_type": "code",
   "execution_count": 43,
   "id": "d53187e4",
   "metadata": {},
   "outputs": [
    {
     "data": {
      "text/plain": [
       "LinearRegression()"
      ]
     },
     "execution_count": 43,
     "metadata": {},
     "output_type": "execute_result"
    }
   ],
   "source": [
    "from sklearn.linear_model import LinearRegression\n",
    "regressor = LinearRegression()\n",
    "regressor.fit(X_train,y_train)"
   ]
  },
  {
   "cell_type": "code",
   "execution_count": 45,
   "id": "2934a9fb",
   "metadata": {},
   "outputs": [],
   "source": [
    "y_pred = regressor.predict(X_test)"
   ]
  },
  {
   "cell_type": "code",
   "execution_count": 50,
   "id": "dd2f4ac4",
   "metadata": {},
   "outputs": [
    {
     "name": "stdout",
     "output_type": "stream",
     "text": [
      "0.9898164686464459\n"
     ]
    }
   ],
   "source": [
    "## R-Squared Score\n",
    "from sklearn.metrics import r2_score\n",
    "print(r2_score(y_test,y_pred))"
   ]
  },
  {
   "cell_type": "code",
   "execution_count": null,
   "id": "fa242ba5",
   "metadata": {},
   "outputs": [],
   "source": [
    "## Adjusted R-Squared Score\n"
   ]
  },
  {
   "cell_type": "code",
   "execution_count": 51,
   "id": "029e5b8f",
   "metadata": {},
   "outputs": [
    {
     "name": "stdout",
     "output_type": "stream",
     "text": [
      "[[19.16 18.94]\n",
      " [24.58 24.12]\n",
      " [19.97 20.09]\n",
      " ...\n",
      " [ 3.62  2.64]\n",
      " [11.78 13.89]\n",
      " [13.35 14.1 ]]\n"
     ]
    }
   ],
   "source": [
    "## Compare actual and predicted values\n",
    "np.set_printoptions(precision=2)\n",
    "print(np.concatenate((y_pred.reshape(len(y_pred),1), y_test.reshape(len(y_test),1)), axis = 1, out=None))"
   ]
  },
  {
   "cell_type": "code",
   "execution_count": null,
   "id": "e7f87882",
   "metadata": {},
   "outputs": [],
   "source": []
  }
 ],
 "metadata": {
  "kernelspec": {
   "display_name": "Python 3",
   "language": "python",
   "name": "python3"
  },
  "language_info": {
   "codemirror_mode": {
    "name": "ipython",
    "version": 3
   },
   "file_extension": ".py",
   "mimetype": "text/x-python",
   "name": "python",
   "nbconvert_exporter": "python",
   "pygments_lexer": "ipython3",
   "version": "3.8.8"
  }
 },
 "nbformat": 4,
 "nbformat_minor": 5
}
