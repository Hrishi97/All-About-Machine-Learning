{
 "cells": [
  {
   "cell_type": "code",
   "execution_count": 1,
   "id": "ab23fc3b",
   "metadata": {},
   "outputs": [],
   "source": [
    "import pandas as pd\n",
    "import matplotlib.pyplot as plt\n",
    "import numpy as np"
   ]
  },
  {
   "cell_type": "code",
   "execution_count": 2,
   "id": "572db54b",
   "metadata": {},
   "outputs": [],
   "source": [
    "dataset = pd.read_csv('weatherHistory.csv')"
   ]
  },
  {
   "cell_type": "code",
   "execution_count": 5,
   "id": "1cabbc49",
   "metadata": {},
   "outputs": [],
   "source": [
    "dataset.drop(['Precip Type','Daily Summary','Loud Cover'],axis = 1, inplace=True)"
   ]
  },
  {
   "cell_type": "code",
   "execution_count": 41,
   "id": "711581ca",
   "metadata": {
    "collapsed": true
   },
   "outputs": [
    {
     "name": "stdout",
     "output_type": "stream",
     "text": [
      "False\n",
      "False\n",
      "False\n",
      "False\n",
      "False\n",
      "False\n",
      "False\n",
      "False\n",
      "False\n"
     ]
    }
   ],
   "source": [
    "for i in dataset:\n",
    "    print(dataset[i].isna().any())"
   ]
  },
  {
   "cell_type": "code",
   "execution_count": 107,
   "id": "b501236f",
   "metadata": {},
   "outputs": [],
   "source": [
    "X1= dataset.iloc[:,0:3]\n",
    "X2= dataset.iloc[:,4:]\n",
    "y = dataset.loc[:,'Apparent Temperature (C)'].values"
   ]
  },
  {
   "cell_type": "code",
   "execution_count": 109,
   "id": "bb2867b2",
   "metadata": {},
   "outputs": [],
   "source": [
    "for i in X2:\n",
    "    X1[i] = X2[i]"
   ]
  },
  {
   "cell_type": "code",
   "execution_count": 126,
   "id": "02aafb06",
   "metadata": {},
   "outputs": [],
   "source": [
    "X = X1.values"
   ]
  },
  {
   "cell_type": "code",
   "execution_count": 130,
   "id": "056bc02e",
   "metadata": {},
   "outputs": [],
   "source": [
    "from sklearn.preprocessing import LabelEncoder\n",
    "le = LabelEncoder()\n",
    "X[:,1] = le.fit(X[:,1])"
   ]
  },
  {
   "cell_type": "code",
   "execution_count": 132,
   "id": "6208aac5",
   "metadata": {},
   "outputs": [
    {
     "data": {
      "text/plain": [
       "array(['2006-04-01 01:00:00.000 +0200', LabelEncoder(), 9.355555556, 0.86,\n",
       "       14.2646, 259, 15.8263, 1015.63], dtype=object)"
      ]
     },
     "execution_count": 132,
     "metadata": {},
     "output_type": "execute_result"
    }
   ],
   "source": []
  },
  {
   "cell_type": "code",
   "execution_count": null,
   "id": "64f5f92d",
   "metadata": {},
   "outputs": [],
   "source": []
  }
 ],
 "metadata": {
  "kernelspec": {
   "display_name": "Python 3",
   "language": "python",
   "name": "python3"
  },
  "language_info": {
   "codemirror_mode": {
    "name": "ipython",
    "version": 3
   },
   "file_extension": ".py",
   "mimetype": "text/x-python",
   "name": "python",
   "nbconvert_exporter": "python",
   "pygments_lexer": "ipython3",
   "version": "3.8.8"
  }
 },
 "nbformat": 4,
 "nbformat_minor": 5
}
