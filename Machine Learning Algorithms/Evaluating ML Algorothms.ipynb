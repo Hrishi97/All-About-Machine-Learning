{
 "cells": [
  {
   "cell_type": "markdown",
   "id": "b4b3e77c",
   "metadata": {},
   "source": [
    "## Evaluating Regression Models -"
   ]
  },
  {
   "cell_type": "code",
   "execution_count": null,
   "id": "70ee62d1",
   "metadata": {},
   "outputs": [],
   "source": []
  },
  {
   "cell_type": "markdown",
   "id": "23f5a084",
   "metadata": {},
   "source": [
    "## Evaluating Classification Models - "
   ]
  }
 ],
 "metadata": {
  "kernelspec": {
   "display_name": "Python 3",
   "language": "python",
   "name": "python3"
  },
  "language_info": {
   "codemirror_mode": {
    "name": "ipython",
    "version": 3
   },
   "file_extension": ".py",
   "mimetype": "text/x-python",
   "name": "python",
   "nbconvert_exporter": "python",
   "pygments_lexer": "ipython3",
   "version": "3.8.8"
  }
 },
 "nbformat": 4,
 "nbformat_minor": 5
}
