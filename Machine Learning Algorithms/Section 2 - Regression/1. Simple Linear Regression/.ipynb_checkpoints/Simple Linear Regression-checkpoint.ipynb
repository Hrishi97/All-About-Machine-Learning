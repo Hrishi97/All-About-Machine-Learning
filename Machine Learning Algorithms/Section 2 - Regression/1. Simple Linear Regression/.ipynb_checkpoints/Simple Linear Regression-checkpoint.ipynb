{
 "cells": [
  {
   "cell_type": "markdown",
   "id": "681f7b86",
   "metadata": {},
   "source": [
    "## Simple Linear Regression - An algorithms that models the relationship between a dependent and a single independent variable. The relation is either linear(sloped straight line). \n",
    "\n",
    "## The dependent variable must be continuous/real value\n",
    "\n",
    "## This has 2 main objectives -\n",
    "\n",
    "## 1. Model relationship between the two variables - Relation between Income and Expenditure, Experience and Salary, etc.\n",
    "\n",
    "## 2. Forecasting new observations - Weather forecasting according to temperature, Revenue of a company according to the investments in a year.\n",
    "\n",
    "## y = b0 + b1 * X1 + cwhere,\n",
    "\n",
    "## y -> Dependent Variable \n",
    "## x -> Single Independent Variable\n",
    "## b -> Coefficient, a unit change in x that affects y (Slope) \n",
    "## b0 -> Intercept of regression line\n",
    "## c -> constant (error term)"
   ]
  },
  {
   "cell_type": "code",
   "execution_count": 2,
   "id": "56164373",
   "metadata": {},
   "outputs": [],
   "source": [
    "## Data Preprocessing Steps\n",
    "\n",
    "import pandas as pd\n",
    "import numpy as np\n",
    "import matplotlib.pyplot as plt\n",
    "\n",
    "dataset = pd.read_csv('Salary_Data.csv')\n",
    "X = dataset.iloc[:,:-1].values\n",
    "y = dataset.iloc[:,-1].values\n",
    "\n",
    "from sklearn.model_selection import train_test_split\n",
    "X_train,X_test,y_train,y_test = train_test_split(X,y,test_size=0.25,random_state=0)"
   ]
  },
  {
   "cell_type": "markdown",
   "id": "551dd122",
   "metadata": {},
   "source": [
    "## Training the simple linear regression model on the training set "
   ]
  },
  {
   "cell_type": "code",
   "execution_count": 3,
   "id": "7c77a9fd",
   "metadata": {},
   "outputs": [
    {
     "data": {
      "text/plain": [
       "LinearRegression()"
      ]
     },
     "execution_count": 3,
     "metadata": {},
     "output_type": "execute_result"
    }
   ],
   "source": [
    "from sklearn.linear_model import LinearRegression\n",
    "regressor = LinearRegression()\n",
    "regressor.fit(X_train, y_train) ## Fit method - Train your model with train set"
   ]
  },
  {
   "cell_type": "markdown",
   "id": "aac27680",
   "metadata": {},
   "source": [
    "## Predicting the test results"
   ]
  },
  {
   "cell_type": "code",
   "execution_count": 4,
   "id": "770ea9b0",
   "metadata": {},
   "outputs": [
    {
     "name": "stdout",
     "output_type": "stream",
     "text": [
      "[ 41056.25705466 123597.70938378  65443.50433372  63567.56223533\n",
      " 116093.94099022 108590.17259667 117031.91203942  64505.53328452]\n"
     ]
    }
   ],
   "source": [
    "y_pred = regressor.predict(X_test)\n",
    "print(y_pred)"
   ]
  },
  {
   "cell_type": "markdown",
   "id": "222d5c4d",
   "metadata": {},
   "source": [
    "## Visualizing training set results"
   ]
  },
  {
   "cell_type": "code",
   "execution_count": 37,
   "id": "a08b2846",
   "metadata": {},
   "outputs": [
    {
     "data": {
      "image/png": "[encoded data removed]",
      "text/plain": [
       "<Figure size 432x288 with 1 Axes>"
      ]
     },
     "metadata": {
      "needs_background": "light"
     },
     "output_type": "display_data"
    }
   ],
   "source": [
    "plt.scatter(X_train, y_train, color = 'red')\n",
    "plt.plot(X_train, regressor.predict(X_train), color = 'blue')\n",
    "plt.title('Salary vs Experience')\n",
    "plt.xlabel('Years of Experience')\n",
    "plt.ylabel('Salary in $')\n",
    "plt.show()"
   ]
  },
  {
   "cell_type": "markdown",
   "id": "67512030",
   "metadata": {},
   "source": [
    "## Visualizing test set results"
   ]
  },
  {
   "cell_type": "code",
   "execution_count": 42,
   "id": "cf949a04",
   "metadata": {},
   "outputs": [
    {
     "data": {
      "image/png": "[encoded data removed]",
      "text/plain": [
       "<Figure size 432x288 with 1 Axes>"
      ]
     },
     "metadata": {
      "needs_background": "light"
     },
     "output_type": "display_data"
    }
   ],
   "source": [
    "plt.scatter(X_test, y_test, color = 'red')\n",
    "plt.plot(X_train, regressor.predict(X_train), color = 'blue')\n",
    "# plt.plot(X_train, regressor.predict(X_train), color = 'green')\n",
    "plt.title('Salary vs Experience')\n",
    "plt.xlabel('Years of Experience')\n",
    "plt.ylabel('Salary in $')\n",
    "plt.show()"
   ]
  },
  {
   "cell_type": "markdown",
   "id": "638fe14c",
   "metadata": {},
   "source": [
    "## Making a single prediction"
   ]
  },
  {
   "cell_type": "code",
   "execution_count": 5,
   "id": "8b541b7e",
   "metadata": {},
   "outputs": [
    {
     "name": "stdout",
     "output_type": "stream",
     "text": [
      "[139543.21722009]\n"
     ]
    }
   ],
   "source": [
    "print(regressor.predict([[12]]))"
   ]
  },
  {
   "cell_type": "markdown",
   "id": "8d1d04ed",
   "metadata": {},
   "source": [
    "Note - \n",
    "\n",
    "Notice that the value of the feature (12 years) was input in a double pair of square brackets. That's because the \"predict\" method always expects a 2D array as the format of its inputs. And putting 12 into a double pair of square brackets makes the input exactly a 2D array. Simply put:\n",
    "\n",
    "12  → scalar \n",
    "\n",
    "[12]→ 1D array \n",
    "\n",
    "[[12]]→2D array"
   ]
  },
  {
   "cell_type": "markdown",
   "id": "b9a94f75",
   "metadata": {},
   "source": [
    "## Get final regression equation with values of the coefficients"
   ]
  },
  {
   "cell_type": "code",
   "execution_count": 6,
   "id": "78a554d9",
   "metadata": {},
   "outputs": [
    {
     "name": "stdout",
     "output_type": "stream",
     "text": [
      "[9379.71049195]\n"
     ]
    }
   ],
   "source": [
    "print(regressor.coef_)"
   ]
  },
  {
   "cell_type": "code",
   "execution_count": 7,
   "id": "6e6f60e2",
   "metadata": {},
   "outputs": [
    {
     "name": "stdout",
     "output_type": "stream",
     "text": [
      "26986.691316737248\n"
     ]
    }
   ],
   "source": [
    "print(regressor.intercept_)"
   ]
  }
 ],
 "metadata": {
  "kernelspec": {
   "display_name": "Python 3",
   "language": "python",
   "name": "python3"
  },
  "language_info": {
   "codemirror_mode": {
    "name": "ipython",
    "version": 3
   },
   "file_extension": ".py",
   "mimetype": "text/x-python",
   "name": "python",
   "nbconvert_exporter": "python",
   "pygments_lexer": "ipython3",
   "version": "3.8.5"
  }
 },
 "nbformat": 4,
 "nbformat_minor": 5
}
