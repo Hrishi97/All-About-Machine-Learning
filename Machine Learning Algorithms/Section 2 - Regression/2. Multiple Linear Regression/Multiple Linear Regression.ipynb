{
 "cells": [
  {
   "cell_type": "markdown",
   "id": "28287af9",
   "metadata": {},
   "source": [
    "## I. Multiple Linear Regression - \n",
    "\n",
    "### It is an algorithm that models the linear relationship between single dependent continuous variable and more than one independent variable.\n",
    "\n",
    "### Example - Prediction of CO2 emission based on engine size and number of cylunders in a car.\n",
    "\n",
    "### y = b0 + b1x1 + b2x2 + b3x3 + ... + bnXn"
   ]
  },
  {
   "cell_type": "markdown",
   "id": "2ed99dc0",
   "metadata": {},
   "source": [
    "## II. Assumptions in Multiple Linear Regression - \n",
    "\n",
    "### 1. A linear relationship should exist between the Target and predictor variables.\n",
    "### 2. The regression residuals must be normally distributed.\n",
    "### 3. MLR assumes little or no multicollinearity (correlation between the independent variable) in data.\n",
    "<!-- a. Linearity\n",
    "b. Homoscedasticity\n",
    "c. Multivariate Normality\n",
    "d. Independence of errors\n",
    "e. Lack of mulitcollinearity -->"
   ]
  },
  {
   "cell_type": "markdown",
   "id": "5b8170c1",
   "metadata": {},
   "source": [
    "## III. Building a Model \n",
    "\n",
    "### 1. All-in -> Consider all the variables\n",
    "\n",
    "### 2. Backward Elimination - Stepwise regression ->\n",
    "\n",
    "#### Step 1 - Select a significance level to stay in the model (eg: SL = 0.05)\n",
    "#### Step 2 - Fit the full model with all possible predictors\n",
    "#### Step 3 - Consider the predictor with highest P-value. If P > SL, then go to Step 4, otherwise, go to FIN\n",
    "#### Step 4 - Remove the predictor\n",
    "#### Step 5 - Fit the model without the variable*****. Go to Step 3 and check next predictor and check the condition\n",
    "\n",
    "### 3. Forward Selection - Stepwise regression ->\n",
    "\n",
    "#### Step 1 - Select a significance level to enter the model (eg: SL = 0.05)\n",
    "#### Step 2 - Fit all simple regression model y ~ xn and select the one with lowest P-value\n",
    "#### Step 3 - Fit all simple regression model with the selected ones \n",
    "#### Step 4 - Consider the predictor with the lowest P-value. If P < SL, go to step 3, otherwise, go to FIN\n",
    "\n",
    "### 4. Bi-directional Elimination - Stepwise regression ->\n",
    "\n",
    "#### Step 1 - Select a significance level to enter and to stay in the model (eg: SLSTAY = 0.05 and SLENTER = 0.05)\n",
    "#### Step 2 -  Perform the next step of forward selection (new variables must have: P < SLENTER to enter)\n",
    "#### Step 3 - Perform all steps of backward elimination (old variables must have P < SLSTAY to stay), and go to step 2\n",
    "#### Step 4 - No new variables can enter and no old variables can exit.\n",
    "\n",
    "### 5. Score Comparison of all possible models ->\n",
    "\n",
    "#### Step 1 - Select a criterion of goodness of fit (eg: Akaike criterion)\n",
    "#### Step 2 - Construct all possible regression models: 2^n - 1 total combinations\n",
    "#### Step 3 - Select the one with best criterion and your model is ready"
   ]
  },
  {
   "cell_type": "code",
   "execution_count": 105,
   "id": "788352e6",
   "metadata": {},
   "outputs": [],
   "source": [
    "## Data Preprocessing Steps\n",
    "\n",
    "import pandas as pd\n",
    "import numpy as np\n",
    "import matplotlib.pyplot as plt\n",
    "\n",
    "dataset = pd.read_csv('50_Startups.csv')\n",
    "X = dataset.iloc[:,:-1].values\n",
    "y = dataset.iloc[:,-1].values\n",
    "\n",
    "# handle categorical \n",
    "from sklearn.compose import ColumnTransformer\n",
    "from sklearn.preprocessing import OneHotEncoder\n",
    "ct = ColumnTransformer(transformers=[('encoder', OneHotEncoder(), [3])], remainder='passthrough')\n",
    "X = ct.fit_transform(X)"
   ]
  },
  {
   "cell_type": "code",
   "execution_count": 106,
   "id": "4d232984",
   "metadata": {},
   "outputs": [],
   "source": [
    "from sklearn.model_selection import train_test_split\n",
    "X_train,X_test, y_train, y_test = train_test_split(X,y, test_size = 0.2, random_state = 0)"
   ]
  },
  {
   "cell_type": "code",
   "execution_count": 107,
   "id": "f03286fa",
   "metadata": {},
   "outputs": [
    {
     "data": {
      "text/plain": [
       "LinearRegression()"
      ]
     },
     "execution_count": 107,
     "metadata": {},
     "output_type": "execute_result"
    }
   ],
   "source": [
    "from sklearn.linear_model import LinearRegression\n",
    "regressor = LinearRegression()\n",
    "regressor.fit(X_train,y_train)"
   ]
  },
  {
   "cell_type": "code",
   "execution_count": 108,
   "id": "6f7ea969",
   "metadata": {},
   "outputs": [
    {
     "name": "stdout",
     "output_type": "stream",
     "text": [
      "[[103015.2  103282.38]\n",
      " [132582.28 144259.4 ]\n",
      " [132447.74 146121.95]\n",
      " [ 71976.1   77798.83]\n",
      " [178537.48 191050.39]\n",
      " [116161.24 105008.31]\n",
      " [ 67851.69  81229.06]\n",
      " [ 98791.73  97483.56]\n",
      " [113969.44 110352.25]\n",
      " [167921.07 166187.94]]\n"
     ]
    }
   ],
   "source": [
    "y_pred = regressor.predict(X_test)\n",
    "np.set_printoptions(precision=2)\n",
    "print(np.concatenate((y_pred.reshape(len(y_pred),1), y_test.reshape(len(y_test),1)), axis = 1, out=None))"
   ]
  },
  {
   "cell_type": "code",
   "execution_count": 109,
   "id": "cdf948ef",
   "metadata": {},
   "outputs": [
    {
     "name": "stdout",
     "output_type": "stream",
     "text": [
      "[[1 0.0 0.0 1.0 165349.2 136897.8]\n",
      " [1 1.0 0.0 0.0 162597.7 151377.59]\n",
      " [1 0.0 1.0 0.0 153441.51 101145.55]\n",
      " [1 0.0 0.0 1.0 144372.41 118671.85]\n",
      " [1 0.0 1.0 0.0 142107.34 91391.77]\n",
      " [1 0.0 0.0 1.0 131876.9 99814.71]\n",
      " [1 1.0 0.0 0.0 134615.46 147198.87]\n",
      " [1 0.0 1.0 0.0 130298.13 145530.06]\n",
      " [1 0.0 0.0 1.0 120542.52 148718.95]\n",
      " [1 1.0 0.0 0.0 123334.88 108679.17]\n",
      " [1 0.0 1.0 0.0 101913.08 110594.11]\n",
      " [1 1.0 0.0 0.0 100671.96 91790.61]\n",
      " [1 0.0 1.0 0.0 93863.75 127320.38]\n",
      " [1 1.0 0.0 0.0 91992.39 135495.07]\n",
      " [1 0.0 1.0 0.0 119943.24 156547.42]\n",
      " [1 0.0 0.0 1.0 114523.61 122616.84]\n",
      " [1 1.0 0.0 0.0 78013.11 121597.55]\n",
      " [1 0.0 0.0 1.0 94657.16 145077.58]\n",
      " [1 0.0 1.0 0.0 91749.16 114175.79]\n",
      " [1 0.0 0.0 1.0 86419.7 153514.11]\n",
      " [1 1.0 0.0 0.0 76253.86 113867.3]\n",
      " [1 0.0 0.0 1.0 78389.47 153773.43]\n",
      " [1 0.0 1.0 0.0 73994.56 122782.75]\n",
      " [1 0.0 1.0 0.0 67532.53 105751.03]\n",
      " [1 0.0 0.0 1.0 77044.01 99281.34]\n",
      " [1 1.0 0.0 0.0 64664.71 139553.16]\n",
      " [1 0.0 1.0 0.0 75328.87 144135.98]\n",
      " [1 0.0 0.0 1.0 72107.6 127864.55]\n",
      " [1 0.0 1.0 0.0 66051.52 182645.56]\n",
      " [1 0.0 0.0 1.0 65605.48 153032.06]\n",
      " [1 0.0 1.0 0.0 61994.48 115641.28]\n",
      " [1 0.0 0.0 1.0 61136.38 152701.92]\n",
      " [1 1.0 0.0 0.0 63408.86 129219.61]\n",
      " [1 0.0 1.0 0.0 55493.95 103057.49]\n",
      " [1 1.0 0.0 0.0 46426.07 157693.92]\n",
      " [1 0.0 0.0 1.0 46014.02 85047.44]\n",
      " [1 0.0 1.0 0.0 28663.76 127056.21]\n",
      " [1 1.0 0.0 0.0 44069.95 51283.14]\n",
      " [1 0.0 0.0 1.0 20229.59 65947.93]\n",
      " [1 1.0 0.0 0.0 38558.51 82982.09]\n",
      " [1 1.0 0.0 0.0 28754.33 118546.05]\n",
      " [1 0.0 1.0 0.0 27892.92 84710.77]\n",
      " [1 1.0 0.0 0.0 23640.93 96189.63]\n",
      " [1 0.0 0.0 1.0 15505.73 127382.3]\n",
      " [1 1.0 0.0 0.0 22177.74 154806.14]\n",
      " [1 0.0 0.0 1.0 1000.23 124153.04]\n",
      " [1 0.0 1.0 0.0 1315.46 115816.21]\n",
      " [1 1.0 0.0 0.0 0.0 135426.92]\n",
      " [1 0.0 0.0 1.0 542.05 51743.15]\n",
      " [1 1.0 0.0 0.0 0.0 116983.8]]\n"
     ]
    },
    {
     "data": {
      "text/html": [
       "<table class=\"simpletable\">\n",
       "<caption>OLS Regression Results</caption>\n",
       "<tr>\n",
       "  <th>Dep. Variable:</th>            <td>y</td>        <th>  R-squared:         </th> <td>   0.948</td>\n",
       "</tr>\n",
       "<tr>\n",
       "  <th>Model:</th>                   <td>OLS</td>       <th>  Adj. R-squared:    </th> <td>   0.943</td>\n",
       "</tr>\n",
       "<tr>\n",
       "  <th>Method:</th>             <td>Least Squares</td>  <th>  F-statistic:       </th> <td>   205.0</td>\n",
       "</tr>\n",
       "<tr>\n",
       "  <th>Date:</th>             <td>Sun, 25 Apr 2021</td> <th>  Prob (F-statistic):</th> <td>2.90e-28</td>\n",
       "</tr>\n",
       "<tr>\n",
       "  <th>Time:</th>                 <td>14:37:21</td>     <th>  Log-Likelihood:    </th> <td> -526.75</td>\n",
       "</tr>\n",
       "<tr>\n",
       "  <th>No. Observations:</th>      <td>    50</td>      <th>  AIC:               </th> <td>   1064.</td>\n",
       "</tr>\n",
       "<tr>\n",
       "  <th>Df Residuals:</th>          <td>    45</td>      <th>  BIC:               </th> <td>   1073.</td>\n",
       "</tr>\n",
       "<tr>\n",
       "  <th>Df Model:</th>              <td>     4</td>      <th>                     </th>     <td> </td>   \n",
       "</tr>\n",
       "<tr>\n",
       "  <th>Covariance Type:</th>      <td>nonrobust</td>    <th>                     </th>     <td> </td>   \n",
       "</tr>\n",
       "</table>\n",
       "<table class=\"simpletable\">\n",
       "<tr>\n",
       "    <td></td>       <th>coef</th>     <th>std err</th>      <th>t</th>      <th>P>|t|</th>  <th>[0.025</th>    <th>0.975]</th>  \n",
       "</tr>\n",
       "<tr>\n",
       "  <th>const</th> <td> 4.122e+04</td> <td> 4607.941</td> <td>    8.945</td> <td> 0.000</td> <td> 3.19e+04</td> <td> 5.05e+04</td>\n",
       "</tr>\n",
       "<tr>\n",
       "  <th>x1</th>    <td> 1.339e+04</td> <td> 2421.500</td> <td>    5.529</td> <td> 0.000</td> <td> 8511.111</td> <td> 1.83e+04</td>\n",
       "</tr>\n",
       "<tr>\n",
       "  <th>x2</th>    <td> 1.448e+04</td> <td> 2518.987</td> <td>    5.748</td> <td> 0.000</td> <td> 9405.870</td> <td> 1.96e+04</td>\n",
       "</tr>\n",
       "<tr>\n",
       "  <th>x3</th>    <td> 1.335e+04</td> <td> 2459.306</td> <td>    5.428</td> <td> 0.000</td> <td> 8395.623</td> <td> 1.83e+04</td>\n",
       "</tr>\n",
       "<tr>\n",
       "  <th>x4</th>    <td>    0.8609</td> <td>    0.031</td> <td>   27.665</td> <td> 0.000</td> <td>    0.798</td> <td>    0.924</td>\n",
       "</tr>\n",
       "<tr>\n",
       "  <th>x5</th>    <td>   -0.0527</td> <td>    0.050</td> <td>   -1.045</td> <td> 0.301</td> <td>   -0.154</td> <td>    0.049</td>\n",
       "</tr>\n",
       "</table>\n",
       "<table class=\"simpletable\">\n",
       "<tr>\n",
       "  <th>Omnibus:</th>       <td>14.275</td> <th>  Durbin-Watson:     </th> <td>   1.197</td>\n",
       "</tr>\n",
       "<tr>\n",
       "  <th>Prob(Omnibus):</th> <td> 0.001</td> <th>  Jarque-Bera (JB):  </th> <td>  19.260</td>\n",
       "</tr>\n",
       "<tr>\n",
       "  <th>Skew:</th>          <td>-0.953</td> <th>  Prob(JB):          </th> <td>6.57e-05</td>\n",
       "</tr>\n",
       "<tr>\n",
       "  <th>Kurtosis:</th>      <td> 5.369</td> <th>  Cond. No.          </th> <td>9.18e+17</td>\n",
       "</tr>\n",
       "</table><br/><br/>Notes:<br/>[1] Standard Errors assume that the covariance matrix of the errors is correctly specified.<br/>[2] The smallest eigenvalue is 1.28e-24. This might indicate that there are<br/>strong multicollinearity problems or that the design matrix is singular."
      ],
      "text/plain": [
       "<class 'statsmodels.iolib.summary.Summary'>\n",
       "\"\"\"\n",
       "                            OLS Regression Results                            \n",
       "==============================================================================\n",
       "Dep. Variable:                      y   R-squared:                       0.948\n",
       "Model:                            OLS   Adj. R-squared:                  0.943\n",
       "Method:                 Least Squares   F-statistic:                     205.0\n",
       "Date:                Sun, 25 Apr 2021   Prob (F-statistic):           2.90e-28\n",
       "Time:                        14:37:21   Log-Likelihood:                -526.75\n",
       "No. Observations:                  50   AIC:                             1064.\n",
       "Df Residuals:                      45   BIC:                             1073.\n",
       "Df Model:                           4                                         \n",
       "Covariance Type:            nonrobust                                         \n",
       "==============================================================================\n",
       "                 coef    std err          t      P>|t|      [0.025      0.975]\n",
       "------------------------------------------------------------------------------\n",
       "const       4.122e+04   4607.941      8.945      0.000    3.19e+04    5.05e+04\n",
       "x1          1.339e+04   2421.500      5.529      0.000    8511.111    1.83e+04\n",
       "x2          1.448e+04   2518.987      5.748      0.000    9405.870    1.96e+04\n",
       "x3          1.335e+04   2459.306      5.428      0.000    8395.623    1.83e+04\n",
       "x4             0.8609      0.031     27.665      0.000       0.798       0.924\n",
       "x5            -0.0527      0.050     -1.045      0.301      -0.154       0.049\n",
       "==============================================================================\n",
       "Omnibus:                       14.275   Durbin-Watson:                   1.197\n",
       "Prob(Omnibus):                  0.001   Jarque-Bera (JB):               19.260\n",
       "Skew:                          -0.953   Prob(JB):                     6.57e-05\n",
       "Kurtosis:                       5.369   Cond. No.                     9.18e+17\n",
       "==============================================================================\n",
       "\n",
       "Notes:\n",
       "[1] Standard Errors assume that the covariance matrix of the errors is correctly specified.\n",
       "[2] The smallest eigenvalue is 1.28e-24. This might indicate that there are\n",
       "strong multicollinearity problems or that the design matrix is singular.\n",
       "\"\"\""
      ]
     },
     "execution_count": 109,
     "metadata": {},
     "output_type": "execute_result"
    }
   ],
   "source": [
    "import statsmodels.api as sm\n",
    "\n",
    "X = np.append(arr = np.ones((50, 1)).astype(int), values = X, axis = 1)\n",
    "X_temp = X[:,[0,1,2,3,4,5]]\n",
    "print(X_temp)\n",
    "X_temp = X_temp.astype(np.float64)\n",
    "\n",
    "regressor_OLS = sm.OLS(endog = y, exog = X_temp).fit()\n",
    "regressor_OLS.summary()"
   ]
  },
  {
   "cell_type": "code",
   "execution_count": null,
   "id": "45f4da66",
   "metadata": {},
   "outputs": [],
   "source": []
  }
 ],
 "metadata": {
  "kernelspec": {
   "display_name": "Python 3",
   "language": "python",
   "name": "python3"
  },
  "language_info": {
   "codemirror_mode": {
    "name": "ipython",
    "version": 3
   },
   "file_extension": ".py",
   "mimetype": "text/x-python",
   "name": "python",
   "nbconvert_exporter": "python",
   "pygments_lexer": "ipython3",
   "version": "3.8.8"
  }
 },
 "nbformat": 4,
 "nbformat_minor": 5
}
